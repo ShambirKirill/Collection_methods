{
 "cells": [
  {
   "cell_type": "markdown",
   "id": "3e3435f7",
   "metadata": {},
   "source": [
    "# Домашнее задание. Введение в математический анализ."
   ]
  },
  {
   "cell_type": "markdown",
   "id": "b12cdbce",
   "metadata": {},
   "source": [
    "#### 2. Задание"
   ]
  },
  {
   "cell_type": "code",
   "execution_count": 15,
   "id": "56ad908d",
   "metadata": {},
   "outputs": [],
   "source": [
    "a = {1, 20, 30, 'gorod', 10002, 11}\n",
    "b = {'Антисептик', 'маска', 11, 22, 33}\n",
    "c = {11111, 22222, 3333, 1111, 2222, 11}"
   ]
  },
  {
   "cell_type": "code",
   "execution_count": 16,
   "id": "8464dbd4",
   "metadata": {},
   "outputs": [
    {
     "name": "stdout",
     "output_type": "stream",
     "text": [
      "{1, 33, 3333, 11111, 'Антисептик', 11, 2222, 22222, 'маска', 'gorod', 10002, 20, 22, 1111, 30}\n"
     ]
    }
   ],
   "source": [
    "# Объединение\n",
    "print(a | b | c)"
   ]
  },
  {
   "cell_type": "code",
   "execution_count": 17,
   "id": "e7ec0092",
   "metadata": {},
   "outputs": [
    {
     "name": "stdout",
     "output_type": "stream",
     "text": [
      "{11}\n"
     ]
    }
   ],
   "source": [
    "# Пересечение\n",
    "print(a & b & c)"
   ]
  },
  {
   "cell_type": "code",
   "execution_count": 18,
   "id": "6dc9190a",
   "metadata": {},
   "outputs": [
    {
     "name": "stdout",
     "output_type": "stream",
     "text": [
      "{1, 'gorod', 10002, 20, 30}\n"
     ]
    }
   ],
   "source": [
    "# Разность\n",
    "print(a - b - c)"
   ]
  },
  {
   "cell_type": "code",
   "execution_count": 19,
   "id": "8aaa44df",
   "metadata": {},
   "outputs": [
    {
     "name": "stdout",
     "output_type": "stream",
     "text": [
      "{1, 3333, 11, 22222, 'gorod', 10002, 20, 22, 1111, 30, 33, 11111, 'Антисептик', 2222, 'маска'}\n"
     ]
    }
   ],
   "source": [
    "#Симметричная разность\n",
    "print(a^b^c)"
   ]
  }
 ],
 "metadata": {
  "kernelspec": {
   "display_name": "Python 3",
   "language": "python",
   "name": "python3"
  },
  "language_info": {
   "codemirror_mode": {
    "name": "ipython",
    "version": 3
   },
   "file_extension": ".py",
   "mimetype": "text/x-python",
   "name": "python",
   "nbconvert_exporter": "python",
   "pygments_lexer": "ipython3",
   "version": "3.8.8"
  }
 },
 "nbformat": 4,
 "nbformat_minor": 5
}
