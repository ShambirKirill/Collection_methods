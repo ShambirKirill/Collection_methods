{
 "cells": [
  {
   "cell_type": "code",
   "execution_count": 3,
   "id": "47a1b12d",
   "metadata": {},
   "outputs": [],
   "source": [
    "#Importing Libraries\n",
    "import requests\n",
    "from pprint import pprint\n",
    "import json"
   ]
  },
  {
   "cell_type": "code",
   "execution_count": 4,
   "id": "f94bf1de",
   "metadata": {},
   "outputs": [],
   "source": [
    "user = 'ShambirKirill' # UserName\n",
    "url = f'https://api.github.com/users/{user}/repos' # Link"
   ]
  },
  {
   "cell_type": "code",
   "execution_count": 5,
   "id": "3d1236fc",
   "metadata": {},
   "outputs": [],
   "source": [
    "response = requests.get(url)\n",
    "j_data = response.json()"
   ]
  },
  {
   "cell_type": "code",
   "execution_count": 6,
   "id": "5e91b028",
   "metadata": {},
   "outputs": [
    {
     "data": {
      "text/plain": [
       "['--Sql', 'bibl', 'geekbrains_python', 'python']"
      ]
     },
     "execution_count": 6,
     "metadata": {},
     "output_type": "execute_result"
    }
   ],
   "source": [
    "user_repos = []\n",
    "for i in j_data:\n",
    "    user_repos.append(i.get('name'))\n",
    "user_repos"
   ]
  },
  {
   "cell_type": "code",
   "execution_count": 7,
   "id": "7c3641e2",
   "metadata": {},
   "outputs": [
    {
     "name": "stdout",
     "output_type": "stream",
     "text": [
      "Список репозиториев пользователя ShambirKirill: --Sql, bibl, geekbrains_python, python\n"
     ]
    }
   ],
   "source": [
    "# Для более красивого представления\n",
    "print(f'Список репозиториев пользователя {user}: {\", \".join(user_repos)}')"
   ]
  },
  {
   "cell_type": "code",
   "execution_count": 10,
   "id": "24671f32",
   "metadata": {},
   "outputs": [],
   "source": [
    "#Сохраним вывод в json file\n",
    "with open(f'github_{user}_repos.json', 'w') as f:\n",
    "  json.dump(j_data, f, ensure_ascii=False)"
   ]
  },
  {
   "cell_type": "code",
   "execution_count": null,
   "id": "f852839a",
   "metadata": {},
   "outputs": [],
   "source": []
  }
 ],
 "metadata": {
  "kernelspec": {
   "display_name": "Python 3",
   "language": "python",
   "name": "python3"
  },
  "language_info": {
   "codemirror_mode": {
    "name": "ipython",
    "version": 3
   },
   "file_extension": ".py",
   "mimetype": "text/x-python",
   "name": "python",
   "nbconvert_exporter": "python",
   "pygments_lexer": "ipython3",
   "version": "3.8.8"
  }
 },
 "nbformat": 4,
 "nbformat_minor": 5
}
