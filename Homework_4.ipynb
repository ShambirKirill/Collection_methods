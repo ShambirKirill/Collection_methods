{
 "cells": [
  {
   "cell_type": "code",
   "execution_count": 1,
   "id": "a083b024",
   "metadata": {},
   "outputs": [],
   "source": [
    "import requests\n",
    "from pprint import pprint\n",
    "from lxml import html\n",
    "from datetime import datetime\n",
    "from pymongo import MongoClient"
   ]
  },
  {
   "cell_type": "code",
   "execution_count": 2,
   "id": "f15d36b8",
   "metadata": {},
   "outputs": [],
   "source": [
    "client = MongoClient('127.0.0.1', 27017)\n",
    "db = client['news']\n",
    "doc_news = db.doc_news"
   ]
  },
  {
   "cell_type": "code",
   "execution_count": 3,
   "id": "c0cbbb2d",
   "metadata": {},
   "outputs": [],
   "source": [
    "header = {'User-Agent': 'Mozilla/5.0 (Windows NT 10.0; Win64; x64) AppleWebKit/537.36 (KHTML, like Gecko) Chrome/95.0.4638.54 Safari/537.36'}\n",
    "\n",
    "response = requests.get('https://yandex.ru/news/')\n",
    "\n",
    "dom = html.fromstring(response.text)"
   ]
  },
  {
   "cell_type": "code",
   "execution_count": 4,
   "id": "0b005b65",
   "metadata": {},
   "outputs": [],
   "source": [
    "items = dom.xpath(\"//article[contains(@class,'mg-card')]\")"
   ]
  },
  {
   "cell_type": "code",
   "execution_count": 5,
   "id": "7c019fb6",
   "metadata": {},
   "outputs": [],
   "source": [
    "news = []\n",
    "date = datetime.today().strftime('%d-%m-%Y')\n",
    "for item in items:\n",
    "    dict_news = {}\n",
    "    \n",
    "    link = item.xpath(\".//@href\")\n",
    "    headline = item.xpath(\".//h2[@class='mg-card__title']//text()\")\n",
    "    source = item.xpath(\".//a[@class='mg-card__source-link']/text()\")\n",
    "    time = item.xpath(\".//span[@class='mg-card-source__time']/text()\")\n",
    "    \n",
    "    dict_news['source'] = source[0]\n",
    "    dict_news['headline'] = headline[0].replace('\\xa0', ' ')\n",
    "    dict_news['link'] = link[0]\n",
    "    dict_news['date'] = f'{date} {time[0]}' \n",
    "\n",
    "\n",
    "    news.append(dict_news)"
   ]
  },
  {
   "cell_type": "code",
   "execution_count": 6,
   "id": "aa2c987b",
   "metadata": {},
   "outputs": [],
   "source": [
    "for el in news:\n",
    "    doc_news.insert_one(el)"
   ]
  }
 ],
 "metadata": {
  "kernelspec": {
   "display_name": "Python 3",
   "language": "python",
   "name": "python3"
  },
  "language_info": {
   "codemirror_mode": {
    "name": "ipython",
    "version": 3
   },
   "file_extension": ".py",
   "mimetype": "text/x-python",
   "name": "python",
   "nbconvert_exporter": "python",
   "pygments_lexer": "ipython3",
   "version": "3.8.8"
  }
 },
 "nbformat": 4,
 "nbformat_minor": 5
}
