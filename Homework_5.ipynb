{
 "cells": [
  {
   "cell_type": "code",
   "execution_count": 1,
   "id": "053ece95",
   "metadata": {},
   "outputs": [],
   "source": [
    "from selenium import webdriver\n",
    "from selenium.webdriver.common.by import By\n",
    "from selenium.webdriver.common.keys import Keys\n",
    "from selenium.webdriver.common.action_chains import ActionChains\n",
    "from selenium.webdriver.support.ui import WebDriverWait\n",
    "from datetime import datetime, timedelta\n",
    "import time\n",
    "from pymongo import MongoClient\n",
    "from pymongo.errors import DuplicateKeyError as dke"
   ]
  },
  {
   "cell_type": "code",
   "execution_count": null,
   "id": "5dac8c5e",
   "metadata": {},
   "outputs": [
    {
     "name": "stderr",
     "output_type": "stream",
     "text": [
      "<ipython-input-2-68f1a8dbde2d>:1: DeprecationWarning: executable_path has been deprecated, please pass in a Service object\n",
      "  driver = webdriver.Chrome(executable_path='chromedriver.exe')\n"
     ]
    }
   ],
   "source": [
    "driver = webdriver.Chrome(executable_path='chromedriver.exe')\n",
    "driver.get('https://mail.ru/')\n",
    "\n",
    "#Ожидание от сервера\n",
    "driver.implicitly_wait(10)\n",
    "\n",
    "# Ввод логина\n",
    "elem = driver.find_element(By.CLASS_NAME, 'email-input')\n",
    "elem.send_keys('study.ai_172')\n",
    "\n",
    "elem.send_keys(Keys.ENTER)\n",
    "# Ввод пароля\n",
    "elem = driver.find_element(By.CLASS_NAME, 'password-input')\n",
    "elem.send_keys('NextPassword172#') \n",
    "\n",
    "elem.send_keys(Keys.ENTER)\n",
    "\n",
    "messages = []\n",
    "actions = ActionChains(driver)\n",
    "\n",
    "i = 0\n",
    "last_item = ''\n",
    "while True:\n",
    "    \n",
    "    items = driver.find_elements(By.XPATH, \"//a[contains(@class,'js-letter-list-item')]\")\n",
    "    \n",
    "    if items[-1] == last_item: # проверяю совпадает ли последний эл-нт, с предедущим циклом\n",
    "        i += 1\n",
    "        if i == 4: # Для перестраховки, если 4 раза совпала, выходим из цикла\n",
    "            break\n",
    "    else: # если вдруг не проскролилось, а страница не закончилась, обнуляю\n",
    "        i = 0\n",
    "    \n",
    "    for item in items:\n",
    "        message = {}\n",
    "        _id = item.get_attribute('data-uidl-id')\n",
    "        link = item.get_attribute('href')\n",
    "        date_of_letter = item.find_element(By.CLASS_NAME, 'llc__item_date').get_attribute('title')\n",
    "        letter_subject = item.find_element(By.CLASS_NAME, 'll-sj__normal').text\n",
    "\n",
    "        message['_id'] = _id\n",
    "        message['link'] = link\n",
    "        message['date_of_letter'] = date_of_letter\n",
    "        message['letter_subject'] = letter_subject \n",
    "\n",
    "        messages.append(message)\n",
    "        \n",
    "    actions.move_to_element(items[-1])\n",
    "    actions.perform()\n",
    "    \n",
    "    last_item = items[-1] # сохраняю последний элемент\n",
    "    \n",
    "    time.sleep(5)"
   ]
  },
  {
   "cell_type": "code",
   "execution_count": null,
   "id": "599073c4",
   "metadata": {},
   "outputs": [],
   "source": [
    "# Собираю текст сообщения\n",
    "for message in messages:\n",
    "    driver.get(message['link'])\n",
    "    message['letter_text'] = driver.find_element(By.CLASS_NAME, 'letter-body').text"
   ]
  },
  {
   "cell_type": "code",
   "execution_count": 137,
   "id": "635fc833",
   "metadata": {},
   "outputs": [],
   "source": [
    "# Добавление в базу данных MongoDB\n",
    "client = MongoClient('127.0.0.1', 27017)\n",
    "db = client['mail']\n",
    "letters = db.letters"
   ]
  },
  {
   "cell_type": "code",
   "execution_count": 218,
   "id": "73e9432c",
   "metadata": {},
   "outputs": [
    {
     "name": "stdout",
     "output_type": "stream",
     "text": [
      "Вакансия с id 16365722171360693032 уже добавлена\n",
      "Вакансия с id 16365670231244638115 уже добавлена\n",
      "Вакансия с id 16365657361767513173 уже добавлена\n",
      "Вакансия с id 16365634201505627959 уже добавлена\n",
      "Вакансия с id 16365619191136570781 уже добавлена\n",
      "Вакансия с id 16365611791385982306 уже добавлена\n",
      "Вакансия с id 16365599790348551025 уже добавлена\n",
      "Вакансия с id 16365575351889347922 уже добавлена\n",
      "Вакансия с id 16365425070646016931 уже добавлена\n",
      "Вакансия с id 16365356762139391785 уже добавлена\n",
      "Вакансия с id 16365302000449317994 уже добавлена\n",
      "Вакансия с id 16364922500173317391 уже добавлена\n",
      "Вакансия с id 16364893961504034563 уже добавлена\n",
      "Вакансия с id 16365722171360693032 уже добавлена\n",
      "Вакансия с id 16365670231244638115 уже добавлена\n",
      "Вакансия с id 16365657361767513173 уже добавлена\n",
      "Вакансия с id 16365634201505627959 уже добавлена\n",
      "Вакансия с id 16365619191136570781 уже добавлена\n",
      "Вакансия с id 16365611791385982306 уже добавлена\n",
      "Вакансия с id 16365599790348551025 уже добавлена\n",
      "Вакансия с id 16365575351889347922 уже добавлена\n",
      "Вакансия с id 16365425070646016931 уже добавлена\n",
      "Вакансия с id 16365356762139391785 уже добавлена\n",
      "Вакансия с id 16365302000449317994 уже добавлена\n",
      "Вакансия с id 16364922500173317391 уже добавлена\n",
      "Вакансия с id 16364893961504034563 уже добавлена\n",
      "Вакансия с id 16364859250042626395 уже добавлена\n",
      "Вакансия с id 16364815121957319905 уже добавлена\n",
      "Вакансия с id 16364793141918471066 уже добавлена\n",
      "Вакансия с id 16364791112016129214 уже добавлена\n",
      "Вакансия с id 16364753470854704084 уже добавлена\n",
      "Вакансия с id 16364734231328597996 уже добавлена\n"
     ]
    }
   ],
   "source": [
    "months = [\"Unknown\", \"Января\", \"Февраля\", \"Марта\", \"Апреля\", \"Мая\",\n",
    "          \"Июня\", \"Июля\", \"Августа\", \"Сентября\", \"Октября\",\n",
    "          \"Ноября\", \"Декабря\"]\n",
    "yesterday = datetime.now() - timedelta(1)\n",
    "month = (months[datetime.now().month])\n",
    "datetime.strftime(yesterday, f'%d {month}')\n",
    "for letter in messages:\n",
    "    if letter['date_of_letter'].split(' ')[0] == 'Сегодня,':\n",
    "        letter['date_of_letter'] = ''.join([letter['date_of_letter'].split(' ')[0]\n",
    "                 .replace('Сегодня,', datetime.strftime(datetime.now(), f'%d {month}, ')), \n",
    "                 letter['date_of_letter'].split(' ')[1]])\n",
    "    elif letter['date_of_letter'].split(',')[0] == 'Вчера':\n",
    "        letter['date_of_letter'] = ''.join([letter['date_of_letter'].split(',')[0]\n",
    "                 .replace('Вчера', datetime.strftime(yesterday, f'%d {month}, ')),\n",
    "                 letter['date_of_letter'].split(',')[1]])\n",
    "    try:\n",
    "        letters.insert_one(letter)\n",
    "    except dke:\n",
    "        print(f\"Вакансия с id {letter['_id']} уже добавлена\")"
   ]
  }
 ],
 "metadata": {
  "kernelspec": {
   "display_name": "Python 3",
   "language": "python",
   "name": "python3"
  },
  "language_info": {
   "codemirror_mode": {
    "name": "ipython",
    "version": 3
   },
   "file_extension": ".py",
   "mimetype": "text/x-python",
   "name": "python",
   "nbconvert_exporter": "python",
   "pygments_lexer": "ipython3",
   "version": "3.8.8"
  }
 },
 "nbformat": 4,
 "nbformat_minor": 5
}
